{
 "cells": [
  {
   "cell_type": "code",
   "execution_count": 1,
   "id": "8a7d29e3-1dbb-447e-904e-2a327e511aa9",
   "metadata": {},
   "outputs": [],
   "source": [
    "import numpy as np\n",
    "import pandas as pd \n",
    "import csv\n",
    "from pathlib import Path\n",
    "import matplotlib.pyplot as plt\n",
    "\n",
    "home_dir = Path.home()\n",
    "#print(home_dir)"
   ]
  },
  {
   "cell_type": "code",
   "execution_count": 2,
   "id": "9b719ee6-0ba0-4369-bc19-fb1ea60ddc8a",
   "metadata": {},
   "outputs": [],
   "source": [
    "inside_file = 'Weather_AQI_inside5.csv'\n",
    "outside_file = 'Weather_AQI_outside5.csv'\n",
    "their_outside_file = 'others_outsidedata.csv' "
   ]
  },
  {
   "cell_type": "code",
   "execution_count": 3,
   "id": "b59bedce-01e7-4995-b217-ca25e0747ec4",
   "metadata": {},
   "outputs": [
    {
     "data": {
      "text/html": [
       "<div>\n",
       "<style scoped>\n",
       "    .dataframe tbody tr th:only-of-type {\n",
       "        vertical-align: middle;\n",
       "    }\n",
       "\n",
       "    .dataframe tbody tr th {\n",
       "        vertical-align: top;\n",
       "    }\n",
       "\n",
       "    .dataframe thead th {\n",
       "        text-align: right;\n",
       "    }\n",
       "</style>\n",
       "<table border=\"1\" class=\"dataframe\">\n",
       "  <thead>\n",
       "    <tr style=\"text-align: right;\">\n",
       "      <th></th>\n",
       "      <th>Time</th>\n",
       "      <th>Temp</th>\n",
       "      <th>Gas</th>\n",
       "      <th>Humidity</th>\n",
       "      <th>Pressure</th>\n",
       "      <th>Alt</th>\n",
       "      <th>PM 1.0</th>\n",
       "      <th>PM 2.5</th>\n",
       "      <th>PM 10</th>\n",
       "    </tr>\n",
       "  </thead>\n",
       "  <tbody>\n",
       "    <tr>\n",
       "      <th>1</th>\n",
       "      <td>1.740179e+09</td>\n",
       "      <td>22.590742</td>\n",
       "      <td>15613</td>\n",
       "      <td>34.694782</td>\n",
       "      <td>1009.205809</td>\n",
       "      <td>33.725191</td>\n",
       "      <td>1</td>\n",
       "      <td>2</td>\n",
       "      <td>2</td>\n",
       "    </tr>\n",
       "    <tr>\n",
       "      <th>2</th>\n",
       "      <td>1.740179e+09</td>\n",
       "      <td>22.637031</td>\n",
       "      <td>29428</td>\n",
       "      <td>34.613338</td>\n",
       "      <td>1009.208623</td>\n",
       "      <td>33.701686</td>\n",
       "      <td>1</td>\n",
       "      <td>2</td>\n",
       "      <td>2</td>\n",
       "    </tr>\n",
       "    <tr>\n",
       "      <th>3</th>\n",
       "      <td>1.740179e+09</td>\n",
       "      <td>22.675117</td>\n",
       "      <td>43357</td>\n",
       "      <td>34.485446</td>\n",
       "      <td>1009.210464</td>\n",
       "      <td>33.686316</td>\n",
       "      <td>1</td>\n",
       "      <td>2</td>\n",
       "      <td>2</td>\n",
       "    </tr>\n",
       "    <tr>\n",
       "      <th>4</th>\n",
       "      <td>1.740179e+09</td>\n",
       "      <td>22.700312</td>\n",
       "      <td>55212</td>\n",
       "      <td>34.362157</td>\n",
       "      <td>1009.205497</td>\n",
       "      <td>33.727797</td>\n",
       "      <td>1</td>\n",
       "      <td>2</td>\n",
       "      <td>2</td>\n",
       "    </tr>\n",
       "    <tr>\n",
       "      <th>5</th>\n",
       "      <td>1.740179e+09</td>\n",
       "      <td>22.722188</td>\n",
       "      <td>66114</td>\n",
       "      <td>34.250060</td>\n",
       "      <td>1009.209241</td>\n",
       "      <td>33.696524</td>\n",
       "      <td>1</td>\n",
       "      <td>2</td>\n",
       "      <td>2</td>\n",
       "    </tr>\n",
       "    <tr>\n",
       "      <th>...</th>\n",
       "      <td>...</td>\n",
       "      <td>...</td>\n",
       "      <td>...</td>\n",
       "      <td>...</td>\n",
       "      <td>...</td>\n",
       "      <td>...</td>\n",
       "      <td>...</td>\n",
       "      <td>...</td>\n",
       "      <td>...</td>\n",
       "    </tr>\n",
       "    <tr>\n",
       "      <th>295</th>\n",
       "      <td>1.740180e+09</td>\n",
       "      <td>18.484883</td>\n",
       "      <td>180481</td>\n",
       "      <td>42.237444</td>\n",
       "      <td>1009.163778</td>\n",
       "      <td>34.076275</td>\n",
       "      <td>0</td>\n",
       "      <td>1</td>\n",
       "      <td>1</td>\n",
       "    </tr>\n",
       "    <tr>\n",
       "      <th>296</th>\n",
       "      <td>1.740180e+09</td>\n",
       "      <td>18.485078</td>\n",
       "      <td>178194</td>\n",
       "      <td>42.297161</td>\n",
       "      <td>1009.160595</td>\n",
       "      <td>34.102858</td>\n",
       "      <td>0</td>\n",
       "      <td>1</td>\n",
       "      <td>1</td>\n",
       "    </tr>\n",
       "    <tr>\n",
       "      <th>297</th>\n",
       "      <td>1.740180e+09</td>\n",
       "      <td>18.486055</td>\n",
       "      <td>178383</td>\n",
       "      <td>42.327122</td>\n",
       "      <td>1009.160436</td>\n",
       "      <td>34.104191</td>\n",
       "      <td>0</td>\n",
       "      <td>1</td>\n",
       "      <td>1</td>\n",
       "    </tr>\n",
       "    <tr>\n",
       "      <th>298</th>\n",
       "      <td>1.740180e+09</td>\n",
       "      <td>18.491719</td>\n",
       "      <td>179330</td>\n",
       "      <td>42.375506</td>\n",
       "      <td>1009.166162</td>\n",
       "      <td>34.056362</td>\n",
       "      <td>0</td>\n",
       "      <td>1</td>\n",
       "      <td>1</td>\n",
       "    </tr>\n",
       "    <tr>\n",
       "      <th>299</th>\n",
       "      <td>1.740180e+09</td>\n",
       "      <td>18.497969</td>\n",
       "      <td>180288</td>\n",
       "      <td>42.417993</td>\n",
       "      <td>1009.167591</td>\n",
       "      <td>34.044423</td>\n",
       "      <td>0</td>\n",
       "      <td>1</td>\n",
       "      <td>1</td>\n",
       "    </tr>\n",
       "  </tbody>\n",
       "</table>\n",
       "<p>299 rows × 9 columns</p>\n",
       "</div>"
      ],
      "text/plain": [
       "             Time       Temp     Gas   Humidity     Pressure        Alt  \\\n",
       "1    1.740179e+09  22.590742   15613  34.694782  1009.205809  33.725191   \n",
       "2    1.740179e+09  22.637031   29428  34.613338  1009.208623  33.701686   \n",
       "3    1.740179e+09  22.675117   43357  34.485446  1009.210464  33.686316   \n",
       "4    1.740179e+09  22.700312   55212  34.362157  1009.205497  33.727797   \n",
       "5    1.740179e+09  22.722188   66114  34.250060  1009.209241  33.696524   \n",
       "..            ...        ...     ...        ...          ...        ...   \n",
       "295  1.740180e+09  18.484883  180481  42.237444  1009.163778  34.076275   \n",
       "296  1.740180e+09  18.485078  178194  42.297161  1009.160595  34.102858   \n",
       "297  1.740180e+09  18.486055  178383  42.327122  1009.160436  34.104191   \n",
       "298  1.740180e+09  18.491719  179330  42.375506  1009.166162  34.056362   \n",
       "299  1.740180e+09  18.497969  180288  42.417993  1009.167591  34.044423   \n",
       "\n",
       "     PM 1.0  PM 2.5  PM 10  \n",
       "1         1       2      2  \n",
       "2         1       2      2  \n",
       "3         1       2      2  \n",
       "4         1       2      2  \n",
       "5         1       2      2  \n",
       "..      ...     ...    ...  \n",
       "295       0       1      1  \n",
       "296       0       1      1  \n",
       "297       0       1      1  \n",
       "298       0       1      1  \n",
       "299       0       1      1  \n",
       "\n",
       "[299 rows x 9 columns]"
      ]
     },
     "metadata": {},
     "output_type": "display_data"
    },
    {
     "data": {
      "text/html": [
       "<div>\n",
       "<style scoped>\n",
       "    .dataframe tbody tr th:only-of-type {\n",
       "        vertical-align: middle;\n",
       "    }\n",
       "\n",
       "    .dataframe tbody tr th {\n",
       "        vertical-align: top;\n",
       "    }\n",
       "\n",
       "    .dataframe thead th {\n",
       "        text-align: right;\n",
       "    }\n",
       "</style>\n",
       "<table border=\"1\" class=\"dataframe\">\n",
       "  <thead>\n",
       "    <tr style=\"text-align: right;\">\n",
       "      <th></th>\n",
       "      <th>time</th>\n",
       "      <th>PM1</th>\n",
       "      <th>PM2.5</th>\n",
       "      <th>PM10</th>\n",
       "      <th>BM680 Temp</th>\n",
       "      <th>BM680 Gas</th>\n",
       "      <th>BM680 Humidity</th>\n",
       "      <th>BM680 Pressure</th>\n",
       "      <th>BM680 Altitude</th>\n",
       "    </tr>\n",
       "  </thead>\n",
       "  <tbody>\n",
       "    <tr>\n",
       "      <th>1</th>\n",
       "      <td>2 / 21 / 2025</td>\n",
       "      <td>0</td>\n",
       "      <td>1</td>\n",
       "      <td>1</td>\n",
       "      <td>23.127266</td>\n",
       "      <td>14678</td>\n",
       "      <td>36.970113</td>\n",
       "      <td>1009.282017</td>\n",
       "      <td>33.088675</td>\n",
       "    </tr>\n",
       "    <tr>\n",
       "      <th>2</th>\n",
       "      <td>2 / 21 / 2025</td>\n",
       "      <td>0</td>\n",
       "      <td>1</td>\n",
       "      <td>1</td>\n",
       "      <td>23.161445</td>\n",
       "      <td>22550</td>\n",
       "      <td>36.477029</td>\n",
       "      <td>1009.282718</td>\n",
       "      <td>33.082814</td>\n",
       "    </tr>\n",
       "    <tr>\n",
       "      <th>3</th>\n",
       "      <td>2 / 21 / 2025</td>\n",
       "      <td>0</td>\n",
       "      <td>1</td>\n",
       "      <td>1</td>\n",
       "      <td>23.187422</td>\n",
       "      <td>33798</td>\n",
       "      <td>35.914106</td>\n",
       "      <td>1009.286989</td>\n",
       "      <td>33.047143</td>\n",
       "    </tr>\n",
       "    <tr>\n",
       "      <th>4</th>\n",
       "      <td>2 / 21 / 2025</td>\n",
       "      <td>0</td>\n",
       "      <td>1</td>\n",
       "      <td>1</td>\n",
       "      <td>23.206758</td>\n",
       "      <td>43284</td>\n",
       "      <td>35.381869</td>\n",
       "      <td>1009.293627</td>\n",
       "      <td>32.991700</td>\n",
       "    </tr>\n",
       "    <tr>\n",
       "      <th>5</th>\n",
       "      <td>2 / 21 / 2025</td>\n",
       "      <td>0</td>\n",
       "      <td>1</td>\n",
       "      <td>1</td>\n",
       "      <td>23.217109</td>\n",
       "      <td>55998</td>\n",
       "      <td>34.862292</td>\n",
       "      <td>1009.286103</td>\n",
       "      <td>33.054543</td>\n",
       "    </tr>\n",
       "    <tr>\n",
       "      <th>...</th>\n",
       "      <td>...</td>\n",
       "      <td>...</td>\n",
       "      <td>...</td>\n",
       "      <td>...</td>\n",
       "      <td>...</td>\n",
       "      <td>...</td>\n",
       "      <td>...</td>\n",
       "      <td>...</td>\n",
       "      <td>...</td>\n",
       "    </tr>\n",
       "    <tr>\n",
       "      <th>295</th>\n",
       "      <td>2 / 21 / 2025</td>\n",
       "      <td>2</td>\n",
       "      <td>2</td>\n",
       "      <td>2</td>\n",
       "      <td>19.780391</td>\n",
       "      <td>301636</td>\n",
       "      <td>34.507801</td>\n",
       "      <td>1009.283918</td>\n",
       "      <td>33.072798</td>\n",
       "    </tr>\n",
       "    <tr>\n",
       "      <th>296</th>\n",
       "      <td>2 / 21 / 2025</td>\n",
       "      <td>2</td>\n",
       "      <td>2</td>\n",
       "      <td>2</td>\n",
       "      <td>19.775312</td>\n",
       "      <td>301111</td>\n",
       "      <td>34.489958</td>\n",
       "      <td>1009.281351</td>\n",
       "      <td>33.094237</td>\n",
       "    </tr>\n",
       "    <tr>\n",
       "      <th>297</th>\n",
       "      <td>2 / 21 / 2025</td>\n",
       "      <td>2</td>\n",
       "      <td>3</td>\n",
       "      <td>3</td>\n",
       "      <td>19.771602</td>\n",
       "      <td>301373</td>\n",
       "      <td>34.483827</td>\n",
       "      <td>1009.282772</td>\n",
       "      <td>33.082363</td>\n",
       "    </tr>\n",
       "    <tr>\n",
       "      <th>298</th>\n",
       "      <td>2 / 21 / 2025</td>\n",
       "      <td>2</td>\n",
       "      <td>3</td>\n",
       "      <td>3</td>\n",
       "      <td>19.768086</td>\n",
       "      <td>300069</td>\n",
       "      <td>34.471922</td>\n",
       "      <td>1009.275383</td>\n",
       "      <td>33.144084</td>\n",
       "    </tr>\n",
       "    <tr>\n",
       "      <th>299</th>\n",
       "      <td>2 / 21 / 2025</td>\n",
       "      <td>2</td>\n",
       "      <td>3</td>\n",
       "      <td>3</td>\n",
       "      <td>19.764961</td>\n",
       "      <td>299033</td>\n",
       "      <td>34.489015</td>\n",
       "      <td>1009.277732</td>\n",
       "      <td>33.124463</td>\n",
       "    </tr>\n",
       "  </tbody>\n",
       "</table>\n",
       "<p>299 rows × 9 columns</p>\n",
       "</div>"
      ],
      "text/plain": [
       "              time  PM1  PM2.5  PM10  BM680 Temp  BM680 Gas  BM680 Humidity  \\\n",
       "1    2 / 21 / 2025    0      1     1   23.127266      14678       36.970113   \n",
       "2    2 / 21 / 2025    0      1     1   23.161445      22550       36.477029   \n",
       "3    2 / 21 / 2025    0      1     1   23.187422      33798       35.914106   \n",
       "4    2 / 21 / 2025    0      1     1   23.206758      43284       35.381869   \n",
       "5    2 / 21 / 2025    0      1     1   23.217109      55998       34.862292   \n",
       "..             ...  ...    ...   ...         ...        ...             ...   \n",
       "295  2 / 21 / 2025    2      2     2   19.780391     301636       34.507801   \n",
       "296  2 / 21 / 2025    2      2     2   19.775312     301111       34.489958   \n",
       "297  2 / 21 / 2025    2      3     3   19.771602     301373       34.483827   \n",
       "298  2 / 21 / 2025    2      3     3   19.768086     300069       34.471922   \n",
       "299  2 / 21 / 2025    2      3     3   19.764961     299033       34.489015   \n",
       "\n",
       "     BM680 Pressure  BM680 Altitude  \n",
       "1       1009.282017       33.088675  \n",
       "2       1009.282718       33.082814  \n",
       "3       1009.286989       33.047143  \n",
       "4       1009.293627       32.991700  \n",
       "5       1009.286103       33.054543  \n",
       "..              ...             ...  \n",
       "295     1009.283918       33.072798  \n",
       "296     1009.281351       33.094237  \n",
       "297     1009.282772       33.082363  \n",
       "298     1009.275383       33.144084  \n",
       "299     1009.277732       33.124463  \n",
       "\n",
       "[299 rows x 9 columns]"
      ]
     },
     "metadata": {},
     "output_type": "display_data"
    }
   ],
   "source": [
    "dfinside = pd.read_csv(inside_file)\n",
    "dfoutside = pd.read_csv(outside_file)\n",
    "their_outside = pd.read_csv(their_outside_file)\n",
    "#display(dfinside)\n",
    "useful_inside = dfinside[1:]\n",
    "useful_outside = dfoutside[1:]\n",
    "useful_their_outside = their_outside[1:]\n",
    "display(useful_outside)\n",
    "display(useful_their_outside)"
   ]
  },
  {
   "cell_type": "markdown",
   "id": "62792828-ef15-4108-87e7-a90ff6698cdf",
   "metadata": {},
   "source": [
    "PM 1.0:"
   ]
  },
  {
   "cell_type": "code",
   "execution_count": 73,
   "id": "84bbb997-920c-48f2-87c7-9f69dbcc2fe3",
   "metadata": {},
   "outputs": [
    {
     "data": {
      "image/png": "[encoded data removed]",
      "text/plain": [
       "<Figure size 640x480 with 1 Axes>"
      ]
     },
     "metadata": {},
     "output_type": "display_data"
    }
   ],
   "source": [
    "plt.hist(useful_their_outside['PM1'],bins = 3,alpha=0.5)\n",
    "plt.hist(useful_outside['PM 1.0'],bins=3,alpha=0.5)\n",
    "plt.xlabel(\"counts per second\")\n",
    "plt.ylabel('frequency')\n",
    "plt.title('PM 1.0 counts')\n",
    "plt.show()"
   ]
  },
  {
   "cell_type": "code",
   "execution_count": 91,
   "id": "8f009273-3720-4b6d-b646-573c80fa5fcb",
   "metadata": {},
   "outputs": [
    {
     "name": "stdout",
     "output_type": "stream",
     "text": [
      "a)\n",
      "\n",
      "Our mean uncertainty is 0.0306\n",
      "Their mean uncertainty is 0.0411\n",
      "\n",
      "b)\n",
      "\n",
      "The means are separated by 8.86 of our standard deviation\n",
      "\n",
      "c)\n",
      "\n",
      "There are not enough data points for a gaussian\n"
     ]
    }
   ],
   "source": [
    "outside_PM1_mean = np.mean(useful_outside['PM 1.0'])\n",
    "their_outside_PM1_mean = np.mean(useful_their_outside['PM1'])\n",
    "outside_PM1_std = np.std(useful_outside['PM 1.0'])\n",
    "their_outside_PM1_std = np.std(useful_their_outside['PM1'])\n",
    "print('a)\\n')\n",
    "print('Our mean uncertainty is {:.4f}'.format(outside_PM1_std/np.sqrt(len(useful_outside['PM 1.0']))))\n",
    "print('Their mean uncertainty is {:.4f}'.format(their_outside_PM1_std/np.sqrt(len(useful_their_outside['PM1']))))\n",
    "print('\\nb)\\n')\n",
    "print('The means are separated by {:.2f} of our standard deviation'.format(np.abs((outside_PM1_mean-their_outside_PM1_mean)/(outside_PM1_std/np.sqrt(len(useful_outside['PM 1.0']))))))\n",
    "print('\\nc)\\n')\n",
    "print('There are not enough data points for a gaussian')"
   ]
  },
  {
   "cell_type": "markdown",
   "id": "c83c8cd5-4d1f-4b06-9eb1-90bed4324455",
   "metadata": {},
   "source": [
    "PM 2.5:"
   ]
  },
  {
   "cell_type": "code",
   "execution_count": 71,
   "id": "c57f341b-5684-477b-a664-9efa85dbe58a",
   "metadata": {},
   "outputs": [
    {
     "data": {
      "image/png": "[encoded data removed]",
      "text/plain": [
       "<Figure size 640x480 with 1 Axes>"
      ]
     },
     "metadata": {},
     "output_type": "display_data"
    }
   ],
   "source": [
    "plt.hist(useful_their_outside['PM2.5'],bins = 3,alpha=0.5)\n",
    "plt.hist(useful_outside['PM 2.5'],bins=3,alpha=0.5)\n",
    "plt.xlabel(\"counts per second\")\n",
    "plt.ylabel('frequency')\n",
    "plt.title('PM 2.5 counts')\n",
    "plt.show()"
   ]
  },
  {
   "cell_type": "code",
   "execution_count": 95,
   "id": "93a5c1c2-673c-42ee-9471-b1a2d6d429a2",
   "metadata": {},
   "outputs": [
    {
     "name": "stdout",
     "output_type": "stream",
     "text": [
      "a)\n",
      "\n",
      "Our mean uncertainty is 0.0327\n",
      "Their mean uncertainty is 0.0558\n",
      "\n",
      "b)\n",
      "\n",
      "The means are separated by 7.98 of our standard deviation\n",
      "\n",
      "c)\n",
      "\n",
      "There are not enough data points for a gaussian\n"
     ]
    }
   ],
   "source": [
    "outside_PM25_mean = np.mean(useful_outside['PM 2.5'])\n",
    "their_outside_PM25_mean = np.mean(useful_their_outside['PM2.5'])\n",
    "outside_PM25_std = np.std(useful_outside['PM 2.5'])\n",
    "their_outside_PM25_std = np.std(useful_their_outside['PM2.5'])\n",
    "print('a)\\n')\n",
    "print('Our mean uncertainty is {:.4f}'.format(outside_PM25_std/np.sqrt(len(useful_outside['PM 2.5']))))\n",
    "print('Their mean uncertainty is {:.4f}'.format(their_outside_PM25_std/np.sqrt(len(useful_their_outside['PM2.5']))))\n",
    "print('\\nb)\\n')\n",
    "print('The means are separated by {:.2f} of our standard deviation'.format(np.abs((outside_PM25_mean-their_outside_PM25_mean)/(outside_PM25_std/np.sqrt(len(useful_outside['PM 2.5']))))))\n",
    "print('\\nc)\\n')\n",
    "print('There are not enough data points for a gaussian')"
   ]
  },
  {
   "cell_type": "markdown",
   "id": "1a22e5ef-c932-45d2-84a6-b1add84e06d4",
   "metadata": {},
   "source": [
    "PM 10:"
   ]
  },
  {
   "cell_type": "code",
   "execution_count": 75,
   "id": "13a50ae8-c9d1-4f9f-bc5d-096a7aa4de49",
   "metadata": {},
   "outputs": [
    {
     "data": {
      "image/png": "[encoded data removed]",
      "text/plain": [
       "<Figure size 640x480 with 1 Axes>"
      ]
     },
     "metadata": {},
     "output_type": "display_data"
    }
   ],
   "source": [
    "plt.hist(useful_their_outside['PM10'],bins = 3,alpha=0.5)\n",
    "plt.hist(useful_outside['PM 10'],bins=3,alpha=0.5)\n",
    "plt.xlabel(\"counts per second\")\n",
    "plt.ylabel('frequency')\n",
    "plt.title('PM 10 counts')\n",
    "plt.show()"
   ]
  },
  {
   "cell_type": "code",
   "execution_count": 99,
   "id": "b5defc66-11c5-487e-ba55-b7d74a73091c",
   "metadata": {},
   "outputs": [
    {
     "name": "stdout",
     "output_type": "stream",
     "text": [
      "a)\n",
      "\n",
      "Our mean uncertainty is 0.0416\n",
      "Their mean uncertainty is 0.0558\n",
      "\n",
      "b)\n",
      "\n",
      "The means are separated by 1.21 of our standard deviation\n",
      "\n",
      "c)\n",
      "\n",
      "There are not enough data points for a gaussian\n"
     ]
    }
   ],
   "source": [
    "outside_PM10_mean = np.mean(useful_outside['PM 10'])\n",
    "their_outside_PM10_mean = np.mean(useful_their_outside['PM10'])\n",
    "outside_PM10_std = np.std(useful_outside['PM 10'])\n",
    "their_outside_PM10_std = np.std(useful_their_outside['PM10'])\n",
    "print('a)\\n')\n",
    "print('Our mean uncertainty is {:.4f}'.format(outside_PM10_std/np.sqrt(len(useful_outside['PM 10']))))\n",
    "print('Their mean uncertainty is {:.4f}'.format(their_outside_PM10_std/np.sqrt(len(useful_their_outside['PM10']))))\n",
    "print('\\nb)\\n')\n",
    "print('The means are separated by {:.2f} of our standard deviation'.format(np.abs((outside_PM10_mean-their_outside_PM10_mean)/(outside_PM10_std/np.sqrt(len(useful_their_outside['PM10']))))))\n",
    "print('\\nc)\\n')\n",
    "print('There are not enough data points for a gaussian')"
   ]
  },
  {
   "cell_type": "markdown",
   "id": "4326911b-618b-482b-bff3-0f85c188a666",
   "metadata": {},
   "source": [
    "Temp:"
   ]
  },
  {
   "cell_type": "code",
   "execution_count": 107,
   "id": "8ca4052a-adcd-4002-97b2-5a5ae08744ca",
   "metadata": {},
   "outputs": [
    {
     "data": {
      "image/png": "[encoded data removed]",
      "text/plain": [
       "<Figure size 640x480 with 1 Axes>"
      ]
     },
     "metadata": {},
     "output_type": "display_data"
    }
   ],
   "source": [
    "plt.hist(useful_their_outside['BM680 Temp'],bins = 30,alpha=0.5)\n",
    "plt.hist(useful_outside['Temp'],bins=30,alpha=0.5)\n",
    "plt.xlabel(\"temp [C]\")\n",
    "plt.ylabel('frequency')\n",
    "plt.title('temp [C]')\n",
    "plt.show()"
   ]
  },
  {
   "cell_type": "code",
   "execution_count": 134,
   "id": "68207ce7-67d4-4937-8e86-b32230bc1c11",
   "metadata": {},
   "outputs": [
    {
     "name": "stdout",
     "output_type": "stream",
     "text": [
      "a)\n",
      "\n",
      "Our mean uncertainty is 0.0625\n",
      "Their mean uncertainty is 0.0449\n",
      "\n",
      "b)\n",
      "\n",
      "The means are separated by 14.80 of our standard deviation\n",
      "\n",
      "c)\n",
      "\n",
      "it looks kind of close to a gaussian.... probably enough data points\n"
     ]
    }
   ],
   "source": [
    "outside_temp_mean = np.mean(useful_outside['Temp'])\n",
    "their_outside_temp_mean = np.mean(useful_their_outside['BM680 Temp'])\n",
    "outside_temp_std = np.std(useful_outside['Temp'])\n",
    "their_outside_temp_std = np.std(useful_their_outside['BM680 Temp'])\n",
    "print('a)\\n')\n",
    "print('Our mean uncertainty is {:.4f}'.format(outside_temp_std/np.sqrt(len(useful_outside['Temp']))))\n",
    "print('Their mean uncertainty is {:.4f}'.format(their_outside_temp_std/np.sqrt(len(useful_their_outside['BM680 Temp']))))\n",
    "print('\\nb)\\n')\n",
    "print('The means are separated by {:.2f} of our standard deviation'.format(np.abs((outside_temp_mean-their_outside_temp_mean)/(outside_temp_std/np.sqrt(len(useful_their_outside['BM680 Temp']))))))\n",
    "print('\\nc)\\n')\n",
    "print('it looks kind of close to a gaussian.... probably enough data points')"
   ]
  },
  {
   "cell_type": "markdown",
   "id": "b194a0e9-07c0-4073-915d-6422a1de1762",
   "metadata": {},
   "source": [
    "Altitude:"
   ]
  },
  {
   "cell_type": "code",
   "execution_count": 122,
   "id": "7f452ade-a00e-444d-a98c-dd08d7068106",
   "metadata": {},
   "outputs": [
    {
     "data": {
      "image/png": "[encoded data removed]",
      "text/plain": [
       "<Figure size 640x480 with 1 Axes>"
      ]
     },
     "metadata": {},
     "output_type": "display_data"
    }
   ],
   "source": [
    "plt.hist(useful_their_outside['BM680 Altitude'],bins = 30,alpha=0.5)\n",
    "plt.hist(useful_outside['Alt'],bins=30,alpha=0.5)\n",
    "plt.xlabel(\"altitude[m]\")\n",
    "plt.ylabel('frequency')\n",
    "plt.title('Altitude [m]')\n",
    "plt.show()"
   ]
  },
  {
   "cell_type": "code",
   "execution_count": 130,
   "id": "732c0fdd-f55b-491e-871a-ff5d01254adc",
   "metadata": {},
   "outputs": [
    {
     "name": "stdout",
     "output_type": "stream",
     "text": [
      "a)\n",
      "\n",
      "Our mean uncertainty is 0.0107\n",
      "Their mean uncertainty is 0.0081\n",
      "\n",
      "b)\n",
      "\n",
      "The means are separated by 84.12 of our standard deviation\n",
      "\n",
      "c)\n",
      "\n",
      "Theirs looks gaussian, ours is bimopdal, so we either messed up data collection or took fare too few points\n"
     ]
    }
   ],
   "source": [
    "outside_alt_mean = np.mean(useful_outside['Alt'])\n",
    "their_outside_alt_mean = np.mean(useful_their_outside['BM680 Altitude'])\n",
    "outside_alt_std = np.std(useful_outside['Alt'])\n",
    "their_outside_alt_std = np.std(useful_their_outside['BM680 Altitude'])\n",
    "print('a)\\n')\n",
    "print('Our mean uncertainty is {:.4f}'.format(outside_alt_std/np.sqrt(len(useful_outside['Alt']))))\n",
    "print('Their mean uncertainty is {:.4f}'.format(their_outside_alt_std/np.sqrt(len(useful_their_outside['BM680 Altitude']))))\n",
    "print('\\nb)\\n')\n",
    "print('The means are separated by {:.2f} of our standard deviation'.format(np.abs((outside_alt_mean-their_outside_alt_mean)/(outside_alt_std/np.sqrt(len(useful_their_outside['BM680 Altitude']))))))\n",
    "print('\\nc)\\n')\n",
    "print('Theirs looks gaussian, ours is bimopdal, so we either messed up data collection or took fare too few points')"
   ]
  },
  {
   "cell_type": "markdown",
   "id": "2cb58b6a-3464-42c9-9b83-964a1743c48d",
   "metadata": {},
   "source": [
    "Humididty:"
   ]
  },
  {
   "cell_type": "code",
   "execution_count": 140,
   "id": "08470521-d4d9-45f3-8485-cd6c36f91696",
   "metadata": {},
   "outputs": [
    {
     "data": {
      "image/png": "[encoded data removed]",
      "text/plain": [
       "<Figure size 640x480 with 1 Axes>"
      ]
     },
     "metadata": {},
     "output_type": "display_data"
    }
   ],
   "source": [
    "plt.hist(useful_their_outside['BM680 Humidity'],bins = 30,alpha=0.5)\n",
    "plt.hist(useful_outside['Humidity'],bins=30,alpha=0.5)\n",
    "plt.xlabel(\"Humidity\")\n",
    "plt.ylabel('frequency')\n",
    "plt.title('Humidity')\n",
    "plt.show()"
   ]
  },
  {
   "cell_type": "code",
   "execution_count": 144,
   "id": "62c7de1e-3734-407b-9b6e-3c6607dff0a5",
   "metadata": {},
   "outputs": [
    {
     "name": "stdout",
     "output_type": "stream",
     "text": [
      "a)\n",
      "\n",
      "Our mean uncertainty is 0.1252\n",
      "Their mean uncertainty is 0.0750\n",
      "\n",
      "b)\n",
      "\n",
      "The means are separated by 31.79 of our standard deviation\n",
      "\n",
      "c)\n",
      "\n",
      "Once again ours is bimodal, sugesting an error in our measurement methods.\n"
     ]
    }
   ],
   "source": [
    "outside_hum_mean = np.mean(useful_outside['Humidity'])\n",
    "their_outside_hum_mean = np.mean(useful_their_outside['BM680 Humidity'])\n",
    "outside_hum_std = np.std(useful_outside['Humidity'])\n",
    "their_outside_hum_std = np.std(useful_their_outside['BM680 Humidity'])\n",
    "print('a)\\n')\n",
    "print('Our mean uncertainty is {:.4f}'.format(outside_hum_std/np.sqrt(len(useful_outside['Humidity']))))\n",
    "print('Their mean uncertainty is {:.4f}'.format(their_outside_hum_std/np.sqrt(len(useful_their_outside['BM680 Humidity']))))\n",
    "print('\\nb)\\n')\n",
    "print('The means are separated by {:.2f} of our standard deviation'.format(np.abs((outside_hum_mean-their_outside_hum_mean)/(outside_hum_std/np.sqrt(len(useful_their_outside['BM680 Humidity']))))))\n",
    "print('\\nc)\\n')\n",
    "print('Once again ours is bimodal, sugesting an error in our measurement methods.')"
   ]
  },
  {
   "cell_type": "markdown",
   "id": "33136405-9d23-4587-92ab-95b69e083c67",
   "metadata": {},
   "source": [
    "Pressure:"
   ]
  },
  {
   "cell_type": "code",
   "execution_count": 146,
   "id": "2a363ba4-8e1e-4733-83e7-74a8d2605834",
   "metadata": {},
   "outputs": [
    {
     "data": {
      "image/png": "[encoded data removed]",
      "text/plain": [
       "<Figure size 640x480 with 1 Axes>"
      ]
     },
     "metadata": {},
     "output_type": "display_data"
    }
   ],
   "source": [
    "plt.hist(useful_their_outside['BM680 Pressure'],bins = 30,alpha=0.5)\n",
    "plt.hist(useful_outside['Pressure'],bins=30,alpha=0.5)\n",
    "plt.xlabel(\"Pressure\")\n",
    "plt.ylabel('frequency')\n",
    "plt.title('Pressure')\n",
    "plt.show()"
   ]
  },
  {
   "cell_type": "code",
   "execution_count": 148,
   "id": "302f17de-b439-44ee-b6b1-072df8a56c26",
   "metadata": {},
   "outputs": [
    {
     "name": "stdout",
     "output_type": "stream",
     "text": [
      "a)\n",
      "\n",
      "Our mean uncertainty is 0.0013\n",
      "Their mean uncertainty is 0.0010\n",
      "\n",
      "b)\n",
      "\n",
      "The means are separated by 84.12 of our standard deviation\n",
      "\n",
      "c)\n",
      "\n",
      "Once again ours is bimodal, sugesting an error in our measurement methods.\n"
     ]
    }
   ],
   "source": [
    "outside_pressure_mean = np.mean(useful_outside['Pressure'])\n",
    "their_outside_pressure_mean = np.mean(useful_their_outside['BM680 Pressure'])\n",
    "outside_pressure_std = np.std(useful_outside['Pressure'])\n",
    "their_outside_pressure_std = np.std(useful_their_outside['BM680 Pressure'])\n",
    "print('a)\\n')\n",
    "print('Our mean uncertainty is {:.4f}'.format(outside_pressure_std/np.sqrt(len(useful_outside['Pressure']))))\n",
    "print('Their mean uncertainty is {:.4f}'.format(their_outside_pressure_std/np.sqrt(len(useful_their_outside['BM680 Pressure']))))\n",
    "print('\\nb)\\n')\n",
    "print('The means are separated by {:.2f} of our standard deviation'.format(np.abs((outside_pressure_mean-their_outside_pressure_mean)/(outside_pressure_std/np.sqrt(len(useful_their_outside['BM680 Pressure']))))))\n",
    "print('\\nc)\\n')\n",
    "print('Once again ours is bimodal, sugesting an error in our measurement methods.')"
   ]
  }
 ],
 "metadata": {
  "kernelspec": {
   "display_name": "Python [conda env:base] *",
   "language": "python",
   "name": "conda-base-py"
  },
  "language_info": {
   "codemirror_mode": {
    "name": "ipython",
    "version": 3
   },
   "file_extension": ".py",
   "mimetype": "text/x-python",
   "name": "python",
   "nbconvert_exporter": "python",
   "pygments_lexer": "ipython3",
   "version": "3.12.7"
  }
 },
 "nbformat": 4,
 "nbformat_minor": 5
}
